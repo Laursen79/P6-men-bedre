{
 "cells": [
  {
   "cell_type": "code",
   "execution_count": 8,
   "metadata": {
    "collapsed": true
   },
   "outputs": [],
   "source": [
    "import pickle\n",
    "from sklearn.ensemble import RandomForestClassifier\n",
    "from sklearn.model_selection import train_test_split\n",
    "import random\n",
    "\n",
    "with open(\"../cars.pkl\", \"rb\") as f:\n",
    "    cars: dict = pickle.load(f)"
   ]
  },
  {
   "cell_type": "code",
   "execution_count": 9,
   "metadata": {
    "collapsed": false
   },
   "outputs": [],
   "source": [
    "data = []\n",
    "target = []\n",
    "\n",
    "for i, (car, car_data) in enumerate(cars.items(), 1):\n",
    "    for d in car_data:\n",
    "        random.shuffle(d)\n",
    "        data.append(d)\n",
    "        target.append(i)\n",
    "minlen = min(len(d) for c, cd in cars.items() for d in cd) - 1\n",
    "data = [d[:minlen] for d in data]"
   ]
  },
  {
   "cell_type": "code",
   "execution_count": 10,
   "metadata": {
    "collapsed": false
   },
   "outputs": [
    {
     "name": "stdout",
     "output_type": "stream",
     "text": [
      "Prediction:  [1 5 5 1]\n",
      "Target Values:  [1, 5, 5, 4]\n",
      "Confidence:  0.75\n"
     ]
    }
   ],
   "source": [
    "data_train, data_test, target_train, target_test = train_test_split(data, target, test_size=0.2)\n",
    "\n",
    "clf = RandomForestClassifier()\n",
    "clf.fit(data_train, target_train)\n",
    "print(\"Prediction: \", clf.predict(data_test))\n",
    "print(\"Target Values: \", target_test)\n",
    "print(\"Confidence: \", clf.score(data_test, target_test))"
   ]
  },
  {
   "cell_type": "markdown",
   "metadata": {},
   "source": []
  }
 ],
 "metadata": {
  "kernelspec": {
   "display_name": ".venv",
   "language": "python",
   "name": "python3"
  },
  "language_info": {
   "codemirror_mode": {
    "name": "ipython",
    "version": 3
   },
   "file_extension": ".py",
   "mimetype": "text/x-python",
   "name": "python",
   "nbconvert_exporter": "python",
   "pygments_lexer": "ipython3",
   "version": "3.10.8"
  },
  "vscode": {
   "interpreter": {
    "hash": "8fd5e7c1595ab967f3f688af9c47a550f9ecc90e498faeb0c60bfbc4916f14c3"
   }
  }
 },
 "nbformat": 4,
 "nbformat_minor": 0
}
