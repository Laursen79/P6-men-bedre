{
 "cells": [
  {
   "cell_type": "code",
   "execution_count": 12,
   "metadata": {
    "collapsed": true
   },
   "outputs": [],
   "source": [
    "import pickle\n",
    "from sklearn.ensemble import RandomForestClassifier\n",
    "from sklearn.model_selection import train_test_split\n",
    "import random\n",
    "\n",
    "objects = None\n",
    "cars = {\"data\": [], \"target\": []}\n",
    "with open(\"../cars.pkl\", \"rb\") as f:\n",
    "    objects = pickle.load(f)"
   ]
  },
  {
   "cell_type": "code",
   "execution_count": 13,
   "outputs": [],
   "source": [
    "i = 1\n",
    "minlen = 999999\n",
    "for car, car_data in objects.items():\n",
    "    for data in car_data:\n",
    "        if len(data) < minlen:\n",
    "            minlen = len(data)\n",
    "        random.shuffle(data)\n",
    "        cars[\"data\"].append(data)\n",
    "        cars[\"target\"].append(i)\n",
    "    i += 1"
   ],
   "metadata": {
    "collapsed": false
   }
  },
  {
   "cell_type": "code",
   "execution_count": 14,
   "outputs": [],
   "source": [
    "data = cars[\"data\"]\n",
    "target = cars[\"target\"]\n",
    "i = 0\n",
    "for array in data:\n",
    "    data[i] = array[:minlen]\n",
    "    i += 1\n",
    "data_train, data_test, target_train, target_test = train_test_split(data, target, test_size=0.2)"
   ],
   "metadata": {
    "collapsed": false
   }
  },
  {
   "cell_type": "markdown",
   "source": [
    "# Random Forest"
   ],
   "metadata": {
    "collapsed": false
   }
  },
  {
   "cell_type": "code",
   "execution_count": 15,
   "outputs": [
    {
     "name": "stdout",
     "output_type": "stream",
     "text": [
      "[4 4 4 2]\n",
      "[4, 1, 4, 2]\n",
      "0.75\n"
     ]
    }
   ],
   "source": [
    "clf = RandomForestClassifier()\n",
    "clf.fit(data_train, target_train)\n",
    "print(clf.predict(data_test))\n",
    "print(target_test)\n",
    "print(clf.score(data_test, target_test))"
   ],
   "metadata": {
    "collapsed": false
   }
  }
 ],
 "metadata": {
  "kernelspec": {
   "display_name": "Python 3",
   "language": "python",
   "name": "python3"
  },
  "language_info": {
   "codemirror_mode": {
    "name": "ipython",
    "version": 2
   },
   "file_extension": ".py",
   "mimetype": "text/x-python",
   "name": "python",
   "nbconvert_exporter": "python",
   "pygments_lexer": "ipython2",
   "version": "2.7.6"
  }
 },
 "nbformat": 4,
 "nbformat_minor": 0
}
